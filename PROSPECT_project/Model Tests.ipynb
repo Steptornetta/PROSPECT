{
 "cells": [
  {
   "cell_type": "code",
   "execution_count": 130,
   "metadata": {},
   "outputs": [],
   "source": [
    "import pandas as pd\n",
    "import numpy as np"
   ]
  },
  {
   "cell_type": "code",
   "execution_count": 131,
   "metadata": {},
   "outputs": [],
   "source": [
    "KNNresult = pd.read_csv('checksheetKNN.csv')\n",
    "LCMresult = pd.read_csv('checksheetLCM.csv')\n",
    "DTCresult = pd.read_csv('checksheetDTC.csv')\n",
    "RFresult = pd.read_csv('checksheetRF.csv')"
   ]
  },
  {
   "cell_type": "code",
   "execution_count": 137,
   "metadata": {},
   "outputs": [],
   "source": [
    "KNNresult['difference'] = KNNresult['guess'] - KNNresult['answer']"
   ]
  },
  {
   "cell_type": "code",
   "execution_count": 138,
   "metadata": {},
   "outputs": [
    {
     "name": "stdout",
     "output_type": "stream",
     "text": [
      "<class 'pandas.core.frame.DataFrame'>\n",
      "RangeIndex: 3916 entries, 0 to 3915\n",
      "Data columns (total 4 columns):\n",
      "id            3916 non-null float64\n",
      "guess         3916 non-null float64\n",
      "answer        3916 non-null float64\n",
      "difference    3916 non-null float64\n",
      "dtypes: float64(4)\n",
      "memory usage: 122.5 KB\n"
     ]
    }
   ],
   "source": [
    "KNNresult.info()"
   ]
  },
  {
   "cell_type": "code",
   "execution_count": 141,
   "metadata": {},
   "outputs": [
    {
     "data": {
      "text/plain": [
       " 0.0     766\n",
       " 1.0     422\n",
       "-1.0     414\n",
       "-2.0     283\n",
       " 2.0     255\n",
       "-3.0     213\n",
       " 3.0     198\n",
       " 4.0     194\n",
       "-5.0     172\n",
       " 5.0     166\n",
       "-4.0     160\n",
       "-6.0     123\n",
       " 6.0     113\n",
       " 7.0      83\n",
       "-7.0      76\n",
       "-8.0      51\n",
       " 8.0      47\n",
       " 9.0      47\n",
       "-9.0      35\n",
       " 10.0     23\n",
       " 11.0     22\n",
       "-10.0     18\n",
       " 12.0     10\n",
       "-11.0      8\n",
       "-13.0      4\n",
       " 14.0      4\n",
       "-14.0      3\n",
       " 13.0      3\n",
       "-12.0      3\n",
       "Name: difference, dtype: int64"
      ]
     },
     "execution_count": 141,
     "metadata": {},
     "output_type": "execute_result"
    }
   ],
   "source": [
    "KNNresult['difference'].value_counts()"
   ]
  },
  {
   "cell_type": "code",
   "execution_count": 144,
   "metadata": {},
   "outputs": [
    {
     "data": {
      "text/plain": [
       "0.6539348884901307"
      ]
     },
     "execution_count": 144,
     "metadata": {},
     "output_type": "execute_result"
    }
   ],
   "source": [
    "(766 + 422 + 414 + 283 + 255 + 213 + 198) / 3901"
   ]
  },
  {
   "cell_type": "code",
   "execution_count": 133,
   "metadata": {},
   "outputs": [
    {
     "data": {
      "text/plain": [
       "0.19560776302349336"
      ]
     },
     "execution_count": 133,
     "metadata": {},
     "output_type": "execute_result"
    }
   ],
   "source": [
    "guess = np.asarray(KNNresult['guess'])\n",
    "answer = np.asarray(KNNresult['answer'])\n",
    "correct = 0\n",
    "i = 0\n",
    "for i in range(guess.size):\n",
    "    if guess[i] == answer[i]:\n",
    "        correct = correct + 1\n",
    "    i = i + 1\n",
    "correct/i"
   ]
  },
  {
   "cell_type": "code",
   "execution_count": null,
   "metadata": {},
   "outputs": [],
   "source": []
  },
  {
   "cell_type": "code",
   "execution_count": 134,
   "metadata": {},
   "outputs": [
    {
     "data": {
      "text/plain": [
       "0.17083758937691523"
      ]
     },
     "execution_count": 134,
     "metadata": {},
     "output_type": "execute_result"
    }
   ],
   "source": [
    "guess = np.asarray(LCMresult['guess'])\n",
    "answer = np.asarray(LCMresult['answer'])\n",
    "correct = 0\n",
    "i = 0\n",
    "for i in range(guess.size):\n",
    "    if guess[i] == answer[i]:\n",
    "        correct = correct + 1\n",
    "    i = i + 1\n",
    "correct/i"
   ]
  },
  {
   "cell_type": "code",
   "execution_count": 135,
   "metadata": {},
   "outputs": [
    {
     "data": {
      "text/plain": [
       "0.24055158324821246"
      ]
     },
     "execution_count": 135,
     "metadata": {},
     "output_type": "execute_result"
    }
   ],
   "source": [
    "guess = np.asarray(DTCresult['guess'])\n",
    "answer = np.asarray(DTCresult['answer'])\n",
    "correct = 0\n",
    "i = 0\n",
    "for i in range(guess.size):\n",
    "    if guess[i] == answer[i]:\n",
    "        correct = correct + 1\n",
    "    i = i + 1\n",
    "correct/i"
   ]
  },
  {
   "cell_type": "code",
   "execution_count": 136,
   "metadata": {},
   "outputs": [
    {
     "data": {
      "text/plain": [
       "0.27936670071501535"
      ]
     },
     "execution_count": 136,
     "metadata": {},
     "output_type": "execute_result"
    }
   ],
   "source": [
    "guess = np.asarray(RFresult['guess'])\n",
    "answer = np.asarray(RFresult['answer'])\n",
    "correct = 0\n",
    "i = 0\n",
    "for i in range(guess.size):\n",
    "    if guess[i] == answer[i]:\n",
    "        correct = correct + 1\n",
    "    i = i + 1\n",
    "correct/i"
   ]
  },
  {
   "cell_type": "code",
   "execution_count": null,
   "metadata": {},
   "outputs": [],
   "source": []
  }
 ],
 "metadata": {
  "kernelspec": {
   "display_name": "Python 3",
   "language": "python",
   "name": "python3"
  },
  "language_info": {
   "codemirror_mode": {
    "name": "ipython",
    "version": 3
   },
   "file_extension": ".py",
   "mimetype": "text/x-python",
   "name": "python",
   "nbconvert_exporter": "python",
   "pygments_lexer": "ipython3",
   "version": "3.6.5"
  }
 },
 "nbformat": 4,
 "nbformat_minor": 2
}
