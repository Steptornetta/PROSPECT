{
 "cells": [
  {
   "cell_type": "code",
   "execution_count": 120,
   "metadata": {
    "scrolled": false
   },
   "outputs": [],
   "source": [
    "import pandas as pd\n",
    "import numpy as np\n",
    "import tensorflow as tf\n",
    "from tensorflow import keras\n",
    "import pickle"
   ]
  },
  {
   "cell_type": "code",
   "execution_count": 121,
   "metadata": {
    "scrolled": true
   },
   "outputs": [],
   "source": [
    "train = pd.read_csv('train.csv')\n",
    "test = pd.read_csv('test.csv')"
   ]
  },
  {
   "cell_type": "code",
   "execution_count": 122,
   "metadata": {},
   "outputs": [
    {
     "name": "stdout",
     "output_type": "stream",
     "text": [
      "<class 'pandas.core.frame.DataFrame'>\n",
      "RangeIndex: 15661 entries, 0 to 15660\n",
      "Data columns (total 77 columns):\n",
      "Unnamed: 0                               15661 non-null int64\n",
      "Unnamed: 0.1                             15661 non-null int64\n",
      "Completion Term                          9893 non-null object\n",
      "Completion Term Academic Year            9893 non-null float64\n",
      "Completion Term Calendar Year            9893 non-null float64\n",
      "Program Campus Code                      9895 non-null object\n",
      "Academic Group Code                      10371 non-null object\n",
      "Plan Academic Organization Code          10371 non-null object\n",
      "Degree Code                              11062 non-null object\n",
      "Degree Type                              14645 non-null object\n",
      "Academic Plan Code                       15661 non-null object\n",
      "Scholar Age Range End Completion Term    15661 non-null object\n",
      "Cumulative GPA Range                     15661 non-null object\n",
      "Adult Learner Flag                       15661 non-null object\n",
      "Scholar Age End Completion Term          15661 non-null float64\n",
      "Scholar Gender                           15661 non-null object\n",
      "Honors                                   15661 non-null object\n",
      "Honors Code                              15661 non-null object\n",
      "Scholar IPEDS Race/Ethnicity Code        15661 non-null object\n",
      "Survey Response Flag                     15661 non-null object\n",
      "Post Graduation Plans                    15660 non-null object\n",
      "Post Graduation Plans Code               15661 non-null float64\n",
      "Job Offer Number                         15440 non-null float64\n",
      "Job Title                                15222 non-null object\n",
      "Primary Job Function Code                15466 non-null float64\n",
      "Primary Job Function                     15460 non-null object\n",
      "Company Name                             15444 non-null object\n",
      "Company City                             14868 non-null object\n",
      "Company State Code                       14823 non-null object\n",
      "Company Country Code                     15137 non-null object\n",
      "Company Department                       13215 non-null object\n",
      "Salary Range                             15661 non-null object\n",
      "Bonus Received Flag                      13717 non-null object\n",
      "Bonus Amount Range                       3248 non-null object\n",
      "Relocation Flag                          8633 non-null object\n",
      "Relocation Amount Range                  2432 non-null object\n",
      "Employed During Education Flag           15419 non-null object\n",
      "Employed During Education Code           7425 non-null float64\n",
      "Employed During Education                7424 non-null object\n",
      "Offer Received Date                      11416 non-null float64\n",
      "Offer Received Month                     14064 non-null float64\n",
      "Offer Received Year                      14008 non-null float64\n",
      "Salary                                   15661 non-null float64\n",
      "Bonus Amount                             3248 non-null float64\n",
      "Relocation Amount                        2432 non-null float64\n",
      "Further Education                        3 non-null object\n",
      "Further Education Code                   3 non-null float64\n",
      "Application Status                       3 non-null object\n",
      "Application Status Code                  3 non-null float64\n",
      "College                                  3 non-null object\n",
      "Program                                  3 non-null object\n",
      "Institution Code                         3 non-null float64\n",
      "Institution                              3 non-null object\n",
      "Number of Offers                         3 non-null float64\n",
      "Public Service                           0 non-null float64\n",
      "Public Service Code                      0 non-null float64\n",
      "Fellowship Program                       0 non-null float64\n",
      "Fellowship City                          0 non-null float64\n",
      "Fellowship State Code                    0 non-null float64\n",
      "Fellowship Country Code                  0 non-null float64\n",
      "Employment Learned About                 15044 non-null object\n",
      "Employment Learned About Code            15661 non-null float64\n",
      "Intern Company Name                      12500 non-null object\n",
      "Intern Department                        5699 non-null object\n",
      "Intern Job Title                         10384 non-null object\n",
      "Intern Length (weeks)                    12041 non-null float64\n",
      "Intern Number                            15661 non-null float64\n",
      "Intern Paid Flag                         11725 non-null object\n",
      "Intern Paid Amount                       6556 non-null float64\n",
      "Int Exp Type                             14010 non-null object\n",
      "Int Exp AYEA Flag                        12752 non-null object\n",
      "Int Exp Semester Abroad Flag             13194 non-null object\n",
      "Int Exp Embedded Flag                    13001 non-null object\n",
      "Int Exp Student Org Flag                 12871 non-null object\n",
      "Int Exp Other Flag                       13420 non-null object\n",
      "Int Exp Other                            1207 non-null object\n",
      "Int Exp None Flag                        12739 non-null object\n",
      "dtypes: float64(27), int64(2), object(48)\n",
      "memory usage: 9.2+ MB\n"
     ]
    }
   ],
   "source": [
    "train.info()"
   ]
  },
  {
   "cell_type": "code",
   "execution_count": null,
   "metadata": {},
   "outputs": [],
   "source": []
  },
  {
   "cell_type": "code",
   "execution_count": 123,
   "metadata": {},
   "outputs": [],
   "source": [
    "train['id'] = range(1, len(train)+1)"
   ]
  },
  {
   "cell_type": "code",
   "execution_count": 124,
   "metadata": {},
   "outputs": [],
   "source": [
    "test['id'] = range(len(train)+1, len(train)+1+len(test))"
   ]
  },
  {
   "cell_type": "code",
   "execution_count": 125,
   "metadata": {},
   "outputs": [],
   "source": [
    "train = train[pd.notnull(train['Salary'])]\n",
    "test = test[pd.notnull(test['Salary'])]"
   ]
  },
  {
   "cell_type": "code",
   "execution_count": 126,
   "metadata": {},
   "outputs": [
    {
     "data": {
      "text/plain": [
       "array(['70K to 79,999', '30K to 39,999', '40K to 49,999', '60K to 69,999',\n",
       "       '50K to 59,999', '20K to 29,999', '80K to 89,999',\n",
       "       '100K and above', '90K to 99,999', 'Under 20K'], dtype=object)"
      ]
     },
     "execution_count": 126,
     "metadata": {},
     "output_type": "execute_result"
    }
   ],
   "source": [
    "train['Salary Range'].unique()"
   ]
  },
  {
   "cell_type": "code",
   "execution_count": 127,
   "metadata": {},
   "outputs": [],
   "source": [
    "from sklearn.preprocessing import LabelEncoder\n",
    "lenc = LabelEncoder()\n",
    "train['Salary Range'].replace(to_replace = 'Under 20K', value = 0, inplace = True)\n",
    "train['Salary Range'].replace(to_replace = '20K to 29,999', value = 1, inplace = True)\n",
    "train['Salary Range'].replace(to_replace = '30K to 39,999', value = 2, inplace = True)\n",
    "train['Salary Range'].replace(to_replace = '40K to 49,999', value = 3, inplace = True)\n",
    "train['Salary Range'].replace(to_replace = '50K to 59,999', value = 4, inplace = True)\n",
    "train['Salary Range'].replace(to_replace = '60K to 69,999', value = 5, inplace = True)\n",
    "train['Salary Range'].replace(to_replace = '70K to 79,999', value = 6, inplace = True)\n",
    "train['Salary Range'].replace(to_replace = '80K to 89,999', value = 7, inplace = True)\n",
    "train['Salary Range'].replace(to_replace = '90K to 99,999', value = 8, inplace = True)\n",
    "train['Salary Range'].replace(to_replace = '100K and above', value = 9, inplace = True)\n",
    "\n",
    "test['Salary Range'].replace(to_replace = 'Under 20K', value = 0, inplace = True)\n",
    "test['Salary Range'].replace(to_replace = '20K to 29,999', value = 1, inplace = True)\n",
    "test['Salary Range'].replace(to_replace = '30K to 39,999', value = 2, inplace = True)\n",
    "test['Salary Range'].replace(to_replace = '40K to 49,999', value = 3, inplace = True)\n",
    "test['Salary Range'].replace(to_replace = '50K to 59,999', value = 4, inplace = True)\n",
    "test['Salary Range'].replace(to_replace = '60K to 69,999', value = 5, inplace = True)\n",
    "test['Salary Range'].replace(to_replace = '70K to 79,999', value = 6, inplace = True)\n",
    "test['Salary Range'].replace(to_replace = '80K to 89,999', value = 7, inplace = True)\n",
    "test['Salary Range'].replace(to_replace = '90K to 99,999', value = 8, inplace = True)\n",
    "test['Salary Range'].replace(to_replace = '100K and above', value = 9, inplace = True)"
   ]
  },
  {
   "cell_type": "code",
   "execution_count": 128,
   "metadata": {},
   "outputs": [
    {
     "data": {
      "text/plain": [
       "array([4, 5, 2, 9, 3, 6, 0, 1, 7, 8])"
      ]
     },
     "execution_count": 128,
     "metadata": {},
     "output_type": "execute_result"
    }
   ],
   "source": [
    "test['Salary Range'].unique()"
   ]
  },
  {
   "cell_type": "code",
   "execution_count": 129,
   "metadata": {},
   "outputs": [],
   "source": [
    "train['Int Exp Type'].fillna('None', inplace = True)\n",
    "test['Int Exp Type'].fillna('None', inplace = True)"
   ]
  },
  {
   "cell_type": "code",
   "execution_count": 130,
   "metadata": {},
   "outputs": [],
   "source": [
    "train['Intern Paid Flag'].fillna('N', inplace = True)\n",
    "test['Intern Paid Flag'].fillna('N', inplace = True)"
   ]
  },
  {
   "cell_type": "code",
   "execution_count": 131,
   "metadata": {},
   "outputs": [],
   "source": [
    "train['Employed During Education Flag'].fillna('N', inplace = True)\n",
    "test['Employed During Education Flag'].fillna('N', inplace = True)"
   ]
  },
  {
   "cell_type": "code",
   "execution_count": 132,
   "metadata": {},
   "outputs": [],
   "source": [
    "major = np.append(train['Academic Plan Code'], test['Academic Plan Code']).reshape(-1,1)\n",
    "gpaRange = np.append(train['Cumulative GPA Range'], test['Cumulative GPA Range']).reshape(-1,1)\n",
    "gender = np.append(train['Scholar Gender'], test['Scholar Gender']).reshape(-1,1)\n",
    "race = np.append(train['Scholar IPEDS Race/Ethnicity Code'], test['Scholar IPEDS Race/Ethnicity Code']).reshape(-1,1)\n",
    "paidIntern = np.append(train['Intern Paid Flag'], test['Intern Paid Flag']).reshape(-1,1)\n",
    "honors = np.append(train['Honors Code'], test['Honors Code']).reshape(-1,1)\n",
    "employedDuring = np.append(train['Employed During Education Flag'], test['Employed During Education Flag']).reshape(-1,1)\n",
    "extra = np.append(train['Int Exp Type'], test['Int Exp Type']).reshape(-1,1)\n",
    "found = np.append(train['Employment Learned About Code'], test['Employment Learned About Code']).reshape(-1,1)\n",
    "age = np.append(train['Scholar Age End Completion Term'], test['Scholar Age End Completion Term']).reshape(-1, 1)\n",
    "\n",
    "salary = train['Salary'].values\n",
    "testSal = test['Salary'].values\n",
    "\n",
    "\n",
    "salaryRange = train['Salary Range'].values\n",
    "\n",
    "# major = np.append(train['Academic.Plan.Code'], test['Academic.Plan.Code']).reshape(-1,1)\n",
    "# gpaRange = np.append(train['Cumulative.GPA.Range'], test['Cumulative.GPA.Range']).reshape(-1,1)\n",
    "# gender = np.append(train['Scholar.Gender'], test['Scholar.Gender']).reshape(-1,1)\n",
    "# race = np.append(train['Scholar.IPEDS.Race.Ethnicity.Code'], test['Scholar.IPEDS.Race.Ethnicity.Code']).reshape(-1,1)\n",
    "# paidIntern = np.append(train['Intern.Paid.Flag'], test['Intern.Paid.Flag']).reshape(-1,1)\n",
    "# honors = np.append(train['Honors.Code'], test['Honors.Code']).reshape(-1,1)\n",
    "# employedDuring = np.append(train['Employed.During.Education.Flag'], test['Employed.During.Education.Flag']).reshape(-1,1)\n",
    "# extra = np.append(train['Int.Exp.Type'], test['Int.Exp.Type']).reshape(-1,1)\n",
    "# found = np.append(train['Employment.Learned.About.Code'], test['Employment.Learned.About.Code']).reshape(-1,1)\n",
    "# age = np.append(train['Scholar.Age.End.Completion.Term'], test['Scholar.Age.End.Completion.Term']).reshape(-1, 1)\n",
    "\n",
    "# salaryRange = train['Salary.Range'].values"
   ]
  },
  {
   "cell_type": "code",
   "execution_count": 133,
   "metadata": {},
   "outputs": [],
   "source": [
    "from sklearn.preprocessing import LabelEncoder\n",
    "from sklearn.preprocessing import OneHotEncoder\n",
    "\n",
    "labelEncoder = LabelEncoder()\n",
    "oneHotEncoder = OneHotEncoder()"
   ]
  },
  {
   "cell_type": "code",
   "execution_count": 134,
   "metadata": {},
   "outputs": [],
   "source": [
    "j = 0\n",
    "for i in salary:\n",
    "    if i < 20000:\n",
    "        salary[j] = 0\n",
    "    elif i >= 20000 and i < 25000:\n",
    "        salary[j] = 1\n",
    "    elif i >= 25000 and i < 30000:\n",
    "        salary[j] = 2\n",
    "    elif i >= 30000 and i < 35000:\n",
    "        salary[j] = 3\n",
    "    elif i >= 35000 and i < 40000:\n",
    "        salary[j] = 4\n",
    "    elif i >= 40000 and i < 45000:\n",
    "        salary[j] = 5\n",
    "    elif i >= 45000 and i < 50000:\n",
    "        salary[j] = 6\n",
    "    elif i >= 50000 and i < 55000:\n",
    "        salary[j] = 7\n",
    "    elif i >= 55000 and i < 60000:\n",
    "        salary[j] = 8\n",
    "    elif i >= 60000 and i < 65000:\n",
    "        salary[j] = 9\n",
    "    elif i >= 70000 and i < 75000:\n",
    "        salary[j] = 10\n",
    "    elif i >= 75000 and i < 80000:\n",
    "        salary[j] = 11\n",
    "    elif i >= 85000 and i < 90000:\n",
    "        salary[j] = 12\n",
    "    elif i >= 95000 and i < 100000:\n",
    "        salary[j] = 13\n",
    "    else:\n",
    "        salary[j] = 14\n",
    "    j = j +1"
   ]
  },
  {
   "cell_type": "code",
   "execution_count": 135,
   "metadata": {},
   "outputs": [],
   "source": [
    "j = 0\n",
    "for i in testSal:\n",
    "    if i < 20000:\n",
    "        testSal[j] = 0\n",
    "    elif i >= 20000 and i < 25000:\n",
    "        testSal[j] = 1\n",
    "    elif i >= 25000 and i < 30000:\n",
    "        testSal[j] = 2\n",
    "    elif i >= 30000 and i < 35000:\n",
    "        testSal[j] = 3\n",
    "    elif i >= 35000 and i < 40000:\n",
    "        testSal[j] = 4\n",
    "    elif i >= 40000 and i < 45000:\n",
    "        testSal[j] = 5\n",
    "    elif i >= 45000 and i < 50000:\n",
    "        testSal[j] = 6\n",
    "    elif i >= 50000 and i < 55000:\n",
    "        testSal[j] = 7\n",
    "    elif i >= 55000 and i < 60000:\n",
    "        testSal[j] = 8\n",
    "    elif i >= 60000 and i < 65000:\n",
    "        testSal[j] = 9\n",
    "    elif i >= 70000 and i < 75000:\n",
    "        testSal[j] = 10\n",
    "    elif i >= 75000 and i < 80000:\n",
    "        testSal[j] = 11\n",
    "    elif i >= 85000 and i < 90000:\n",
    "        testSal[j] = 12\n",
    "    elif i >= 95000 and i < 100000:\n",
    "        testSal[j] = 13\n",
    "    else:\n",
    "        testSal[j] = 14\n",
    "    j = j +1"
   ]
  },
  {
   "cell_type": "code",
   "execution_count": 136,
   "metadata": {
    "scrolled": true
   },
   "outputs": [
    {
     "data": {
      "text/plain": [
       "15661"
      ]
     },
     "execution_count": 136,
     "metadata": {},
     "output_type": "execute_result"
    }
   ],
   "source": [
    "salary.size"
   ]
  },
  {
   "cell_type": "code",
   "execution_count": 137,
   "metadata": {},
   "outputs": [
    {
     "name": "stdout",
     "output_type": "stream",
     "text": [
      "<class 'pandas.core.frame.DataFrame'>\n",
      "Int64Index: 15661 entries, 0 to 15660\n",
      "Data columns (total 78 columns):\n",
      "Unnamed: 0                               15661 non-null int64\n",
      "Unnamed: 0.1                             15661 non-null int64\n",
      "Completion Term                          9893 non-null object\n",
      "Completion Term Academic Year            9893 non-null float64\n",
      "Completion Term Calendar Year            9893 non-null float64\n",
      "Program Campus Code                      9895 non-null object\n",
      "Academic Group Code                      10371 non-null object\n",
      "Plan Academic Organization Code          10371 non-null object\n",
      "Degree Code                              11062 non-null object\n",
      "Degree Type                              14645 non-null object\n",
      "Academic Plan Code                       15661 non-null object\n",
      "Scholar Age Range End Completion Term    15661 non-null object\n",
      "Cumulative GPA Range                     15661 non-null object\n",
      "Adult Learner Flag                       15661 non-null object\n",
      "Scholar Age End Completion Term          15661 non-null float64\n",
      "Scholar Gender                           15661 non-null object\n",
      "Honors                                   15661 non-null object\n",
      "Honors Code                              15661 non-null object\n",
      "Scholar IPEDS Race/Ethnicity Code        15661 non-null object\n",
      "Survey Response Flag                     15661 non-null object\n",
      "Post Graduation Plans                    15660 non-null object\n",
      "Post Graduation Plans Code               15661 non-null float64\n",
      "Job Offer Number                         15440 non-null float64\n",
      "Job Title                                15222 non-null object\n",
      "Primary Job Function Code                15466 non-null float64\n",
      "Primary Job Function                     15460 non-null object\n",
      "Company Name                             15444 non-null object\n",
      "Company City                             14868 non-null object\n",
      "Company State Code                       14823 non-null object\n",
      "Company Country Code                     15137 non-null object\n",
      "Company Department                       13215 non-null object\n",
      "Salary Range                             15661 non-null int64\n",
      "Bonus Received Flag                      13717 non-null object\n",
      "Bonus Amount Range                       3248 non-null object\n",
      "Relocation Flag                          8633 non-null object\n",
      "Relocation Amount Range                  2432 non-null object\n",
      "Employed During Education Flag           15661 non-null object\n",
      "Employed During Education Code           7425 non-null float64\n",
      "Employed During Education                7424 non-null object\n",
      "Offer Received Date                      11416 non-null float64\n",
      "Offer Received Month                     14064 non-null float64\n",
      "Offer Received Year                      14008 non-null float64\n",
      "Salary                                   15661 non-null float64\n",
      "Bonus Amount                             3248 non-null float64\n",
      "Relocation Amount                        2432 non-null float64\n",
      "Further Education                        3 non-null object\n",
      "Further Education Code                   3 non-null float64\n",
      "Application Status                       3 non-null object\n",
      "Application Status Code                  3 non-null float64\n",
      "College                                  3 non-null object\n",
      "Program                                  3 non-null object\n",
      "Institution Code                         3 non-null float64\n",
      "Institution                              3 non-null object\n",
      "Number of Offers                         3 non-null float64\n",
      "Public Service                           0 non-null float64\n",
      "Public Service Code                      0 non-null float64\n",
      "Fellowship Program                       0 non-null float64\n",
      "Fellowship City                          0 non-null float64\n",
      "Fellowship State Code                    0 non-null float64\n",
      "Fellowship Country Code                  0 non-null float64\n",
      "Employment Learned About                 15044 non-null object\n",
      "Employment Learned About Code            15661 non-null float64\n",
      "Intern Company Name                      12500 non-null object\n",
      "Intern Department                        5699 non-null object\n",
      "Intern Job Title                         10384 non-null object\n",
      "Intern Length (weeks)                    12041 non-null float64\n",
      "Intern Number                            15661 non-null float64\n",
      "Intern Paid Flag                         15661 non-null object\n",
      "Intern Paid Amount                       6556 non-null float64\n",
      "Int Exp Type                             15661 non-null object\n",
      "Int Exp AYEA Flag                        12752 non-null object\n",
      "Int Exp Semester Abroad Flag             13194 non-null object\n",
      "Int Exp Embedded Flag                    13001 non-null object\n",
      "Int Exp Student Org Flag                 12871 non-null object\n",
      "Int Exp Other Flag                       13420 non-null object\n",
      "Int Exp Other                            1207 non-null object\n",
      "Int Exp None Flag                        12739 non-null object\n",
      "id                                       15661 non-null int64\n",
      "dtypes: float64(27), int64(4), object(47)\n",
      "memory usage: 9.4+ MB\n"
     ]
    }
   ],
   "source": [
    "train.info()"
   ]
  },
  {
   "cell_type": "code",
   "execution_count": 138,
   "metadata": {},
   "outputs": [],
   "source": [
    "test['newSalRange'] = testSal"
   ]
  },
  {
   "cell_type": "code",
   "execution_count": 139,
   "metadata": {},
   "outputs": [
    {
     "name": "stderr",
     "output_type": "stream",
     "text": [
      "/anaconda3/lib/python3.6/site-packages/sklearn/preprocessing/label.py:111: DataConversionWarning: A column-vector y was passed when a 1d array was expected. Please change the shape of y to (n_samples, ), for example using ravel().\n",
      "  y = column_or_1d(y, warn=True)\n"
     ]
    }
   ],
   "source": [
    "major = labelEncoder.fit_transform(major)\n",
    "gpaRange = labelEncoder.fit_transform(gpaRange)\n",
    "gender = labelEncoder.fit_transform(gender)\n",
    "race = labelEncoder.fit_transform(race)\n",
    "paidIntern = labelEncoder.fit_transform(paidIntern)\n",
    "honors = labelEncoder.fit_transform(honors)\n",
    "employedDuring = labelEncoder.fit_transform(employedDuring)\n",
    "extra = labelEncoder.fit_transform(extra)"
   ]
  },
  {
   "cell_type": "code",
   "execution_count": 140,
   "metadata": {},
   "outputs": [],
   "source": [
    "major = major.reshape(-1,1)\n",
    "gpaRange = gpaRange.reshape(-1,1)\n",
    "gender = gender.reshape(-1,1)\n",
    "race = race.reshape(-1,1)\n",
    "paidIntern = paidIntern.reshape(-1,1)\n",
    "\n",
    "honors = honors.reshape(-1,1)\n",
    "employedDuring = employedDuring.reshape(-1,1)\n",
    "extra = extra.reshape(-1,1)\n",
    "\n",
    "# target\n",
    "salaryRange = salaryRange.reshape(-1,1)"
   ]
  },
  {
   "cell_type": "code",
   "execution_count": 141,
   "metadata": {},
   "outputs": [],
   "source": [
    "# set up features and labels\n",
    "X = np.hstack((major, gpaRange, gender, race, paidIntern, extra, age, found, employedDuring))\n",
    "# X = np.hstack((major, gender, race, paidIntern, extra, found, employedDuring))\n",
    "y = salary\n",
    "m = y.size"
   ]
  },
  {
   "cell_type": "code",
   "execution_count": 142,
   "metadata": {},
   "outputs": [
    {
     "data": {
      "text/plain": [
       "KNeighborsClassifier(algorithm='auto', leaf_size=30, metric='minkowski',\n",
       "           metric_params=None, n_jobs=1, n_neighbors=5, p=2,\n",
       "           weights='distance')"
      ]
     },
     "execution_count": 142,
     "metadata": {},
     "output_type": "execute_result"
    }
   ],
   "source": [
    "# create KNN classifier\n",
    "from sklearn.neighbors import KNeighborsClassifier\n",
    "knn = KNeighborsClassifier(n_neighbors=5, weights ='distance')\n",
    "knn.fit(X[:m], y)"
   ]
  },
  {
   "cell_type": "code",
   "execution_count": 143,
   "metadata": {},
   "outputs": [
    {
     "name": "stderr",
     "output_type": "stream",
     "text": [
      "/anaconda3/lib/python3.6/site-packages/sklearn/linear_model/stochastic_gradient.py:128: FutureWarning: max_iter and tol parameters have been added in <class 'sklearn.linear_model.stochastic_gradient.SGDClassifier'> in 0.19. If both are left unset, they default to max_iter=5 and tol=None. If tol is not None, max_iter defaults to max_iter=1000. From 0.21, default max_iter will be 1000, and default tol will be 1e-3.\n",
      "  \"and default tol will be 1e-3.\" % type(self), FutureWarning)\n"
     ]
    },
    {
     "data": {
      "text/plain": [
       "SGDClassifier(alpha=0.0001, average=False, class_weight=None, epsilon=0.1,\n",
       "       eta0=0.0, fit_intercept=True, l1_ratio=0.15,\n",
       "       learning_rate='optimal', loss='hinge', max_iter=None, n_iter=None,\n",
       "       n_jobs=1, penalty='l2', power_t=0.5, random_state=None,\n",
       "       shuffle=True, tol=None, verbose=0, warm_start=False)"
      ]
     },
     "execution_count": 143,
     "metadata": {},
     "output_type": "execute_result"
    }
   ],
   "source": [
    "from sklearn.linear_model import SGDClassifier\n",
    "lcm = SGDClassifier()\n",
    "lcm.fit(X[:m], y)"
   ]
  },
  {
   "cell_type": "code",
   "execution_count": 144,
   "metadata": {},
   "outputs": [
    {
     "data": {
      "text/plain": [
       "DecisionTreeClassifier(class_weight=None, criterion='entropy', max_depth=None,\n",
       "            max_features=None, max_leaf_nodes=None,\n",
       "            min_impurity_decrease=0.0, min_impurity_split=None,\n",
       "            min_samples_leaf=1, min_samples_split=2,\n",
       "            min_weight_fraction_leaf=0.0, presort=False, random_state=None,\n",
       "            splitter='best')"
      ]
     },
     "execution_count": 144,
     "metadata": {},
     "output_type": "execute_result"
    }
   ],
   "source": [
    "from sklearn.tree import DecisionTreeClassifier\n",
    "dtc = DecisionTreeClassifier(criterion = 'entropy')\n",
    "dtc.fit(X[:m], y)"
   ]
  },
  {
   "cell_type": "code",
   "execution_count": 145,
   "metadata": {},
   "outputs": [
    {
     "data": {
      "text/plain": [
       "RandomForestClassifier(bootstrap=True, class_weight=None, criterion='gini',\n",
       "            max_depth=None, max_features='auto', max_leaf_nodes=None,\n",
       "            min_impurity_decrease=0.0, min_impurity_split=None,\n",
       "            min_samples_leaf=1, min_samples_split=2,\n",
       "            min_weight_fraction_leaf=0.0, n_estimators=10, n_jobs=1,\n",
       "            oob_score=False, random_state=None, verbose=0,\n",
       "            warm_start=False)"
      ]
     },
     "execution_count": 145,
     "metadata": {},
     "output_type": "execute_result"
    }
   ],
   "source": [
    "from sklearn.ensemble import RandomForestClassifier\n",
    "rf = RandomForestClassifier()\n",
    "rf.fit(X[:m], y)"
   ]
  },
  {
   "cell_type": "code",
   "execution_count": 146,
   "metadata": {
    "scrolled": false
   },
   "outputs": [
    {
     "data": {
      "text/plain": [
       "0.867122150565098"
      ]
     },
     "execution_count": 146,
     "metadata": {},
     "output_type": "execute_result"
    }
   ],
   "source": [
    "# see performance on training set\n",
    "from sklearn.metrics import accuracy_score\n",
    "accuracy_score(y, knn.predict(X[:m]))"
   ]
  },
  {
   "cell_type": "code",
   "execution_count": 147,
   "metadata": {},
   "outputs": [
    {
     "data": {
      "text/plain": [
       "array([14.])"
      ]
     },
     "execution_count": 147,
     "metadata": {},
     "output_type": "execute_result"
    }
   ],
   "source": [
    "lcm.predict([[371.,   3.,   1.,   8.,   1.,   2.,  22.,   3.,   1.]])"
   ]
  },
  {
   "cell_type": "code",
   "execution_count": 148,
   "metadata": {},
   "outputs": [
    {
     "data": {
      "text/plain": [
       "array([[371.,   3.,   1.,   8.,   1.,   2.,  22.,   3.,   1.]])"
      ]
     },
     "execution_count": 148,
     "metadata": {},
     "output_type": "execute_result"
    }
   ],
   "source": [
    "X[m+31].reshape(1,-1)"
   ]
  },
  {
   "cell_type": "code",
   "execution_count": 149,
   "metadata": {},
   "outputs": [
    {
     "data": {
      "text/plain": [
       "0.8702509418300236"
      ]
     },
     "execution_count": 149,
     "metadata": {},
     "output_type": "execute_result"
    }
   ],
   "source": [
    "accuracy_score(y, dtc.predict(X[:m]))"
   ]
  },
  {
   "cell_type": "code",
   "execution_count": 150,
   "metadata": {},
   "outputs": [
    {
     "data": {
      "text/plain": [
       "array([[589.],\n",
       "       [  2.],\n",
       "       [  1.],\n",
       "       [  8.],\n",
       "       [  1.],\n",
       "       [  2.],\n",
       "       [ 22.],\n",
       "       [  5.],\n",
       "       [  0.]])"
      ]
     },
     "execution_count": 150,
     "metadata": {},
     "output_type": "execute_result"
    }
   ],
   "source": [
    "X[m+30].reshape(-1,1)"
   ]
  },
  {
   "cell_type": "code",
   "execution_count": 151,
   "metadata": {
    "scrolled": true
   },
   "outputs": [
    {
     "data": {
      "text/plain": [
       "0.8524998403677926"
      ]
     },
     "execution_count": 151,
     "metadata": {},
     "output_type": "execute_result"
    }
   ],
   "source": [
    "accuracy_score(y, rf.predict(X[:m]))"
   ]
  },
  {
   "cell_type": "code",
   "execution_count": 152,
   "metadata": {},
   "outputs": [],
   "source": [
    "idArr = np.asarray(test['id'])\n",
    "Sal = np.asarray(test['newSalRange'])"
   ]
  },
  {
   "cell_type": "code",
   "execution_count": 153,
   "metadata": {},
   "outputs": [],
   "source": [
    "predictions = (knn.predict(X[m:]))\n",
    "predictions = np.hstack((idArr.reshape(-1,1), \n",
    "                         predictions.reshape(-1,1), Sal.reshape(-1,1)))\n",
    "\n",
    "predictions = np.vstack((np.array([['id','guess','answer']]),\n",
    "                        predictions))\n",
    "\n",
    "np.savetxt('checksheetKNN.csv',\n",
    "          predictions,\n",
    "          delimiter=',',\n",
    "           fmt='%s')"
   ]
  },
  {
   "cell_type": "code",
   "execution_count": 154,
   "metadata": {},
   "outputs": [],
   "source": [
    "predictions = (lcm.predict(X[m:]))\n",
    "predictions = np.hstack((idArr.reshape(-1,1), \n",
    "                         predictions.reshape(-1,1), Sal.reshape(-1,1)))\n",
    "\n",
    "predictions = np.vstack((np.array([['id','guess','answer']]),\n",
    "                        predictions))\n",
    "\n",
    "np.savetxt('checksheetLCM.csv',\n",
    "          predictions,\n",
    "          delimiter=',',\n",
    "           fmt='%s')"
   ]
  },
  {
   "cell_type": "code",
   "execution_count": 155,
   "metadata": {},
   "outputs": [],
   "source": [
    "predictions = (dtc.predict(X[m:]))\n",
    "predictions = np.hstack((idArr.reshape(-1,1), \n",
    "                         predictions.reshape(-1,1), Sal.reshape(-1,1)))\n",
    "\n",
    "predictions = np.vstack((np.array([['id','guess','answer']]),\n",
    "                        predictions))\n",
    "\n",
    "np.savetxt('checksheetDTC.csv',\n",
    "          predictions,\n",
    "          delimiter=',',\n",
    "           fmt='%s')"
   ]
  },
  {
   "cell_type": "code",
   "execution_count": 156,
   "metadata": {},
   "outputs": [],
   "source": [
    "predictions = (rf.predict(X[m:]))\n",
    "predictions = np.hstack((idArr.reshape(-1,1), \n",
    "                         predictions.reshape(-1,1), Sal.reshape(-1,1)))\n",
    "\n",
    "predictions = np.vstack((np.array([['id','guess','answer']]),\n",
    "                        predictions))\n",
    "\n",
    "np.savetxt('checksheetRF.csv',\n",
    "          predictions,\n",
    "          delimiter=',',\n",
    "           fmt='%s')"
   ]
  },
  {
   "cell_type": "code",
   "execution_count": 157,
   "metadata": {},
   "outputs": [],
   "source": [
    "pickle.dump(knn, open('knn_pickle.pkl', 'wb'))"
   ]
  },
  {
   "cell_type": "code",
   "execution_count": null,
   "metadata": {},
   "outputs": [],
   "source": []
  }
 ],
 "metadata": {
  "kernelspec": {
   "display_name": "Python 3",
   "language": "python",
   "name": "python3"
  },
  "language_info": {
   "codemirror_mode": {
    "name": "ipython",
    "version": 3
   },
   "file_extension": ".py",
   "mimetype": "text/x-python",
   "name": "python",
   "nbconvert_exporter": "python",
   "pygments_lexer": "ipython3",
   "version": "3.6.5"
  }
 },
 "nbformat": 4,
 "nbformat_minor": 2
}
